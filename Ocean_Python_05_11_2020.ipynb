{
  "nbformat": 4,
  "nbformat_minor": 0,
  "metadata": {
    "colab": {
      "name": "Ocean_Python_05_11_2020.ipynb",
      "provenance": [],
      "collapsed_sections": [],
      "authorship_tag": "ABX9TyP6OtW8BuFFJGQ1gSIkCarf",
      "include_colab_link": true
    },
    "kernelspec": {
      "name": "python3",
      "display_name": "Python 3"
    }
  },
  "cells": [
    {
      "cell_type": "markdown",
      "metadata": {
        "id": "view-in-github",
        "colab_type": "text"
      },
      "source": [
        "<a href=\"https://colab.research.google.com/github/paulosalvatore/Ocean_Python_05_11_2020/blob/main/Ocean_Python_05_11_2020.ipynb\" target=\"_parent\"><img src=\"https://colab.research.google.com/assets/colab-badge.svg\" alt=\"Open In Colab\"/></a>"
      ]
    },
    {
      "cell_type": "code",
      "metadata": {
        "id": "LU-1kJjJKt6S",
        "outputId": "d2009c31-3d15-4e76-e3f5-127f95a87e55",
        "colab": {
          "base_uri": "https://localhost:8080/"
        }
      },
      "source": [
        "def conversor_temperatura(tipo, temperatura):\n",
        "  if tipo == 'c':\n",
        "    celsius = temperatura\n",
        "    farenheit = (9 * celsius / 5) + 32\n",
        "    print(f'{celsius:.2f}ºC é igual a {farenheit:.2f}Fº')\n",
        "  elif tipo == 'f':\n",
        "    farenheit = temperatura\n",
        "    celsius = 5 * (farenheit - 32) / 9\n",
        "    print(f'{farenheit:.2f}ºF é igual a {celsius:.2f}Cº')\n",
        "\n",
        "\n",
        "tipo_temperatura = input('celsius ou farenheit (C ou F): ').strip().lower()\n",
        "temperatura = float(input(f'Digite a temperatura, em {tipo_temperatura.upper()}º: '))\n",
        "conversor_temperatura(tipo_temperatura, temperatura)\n",
        "\n",
        "conversor_temperatura('f', 212)"
      ],
      "execution_count": 2,
      "outputs": [
        {
          "output_type": "stream",
          "text": [
            "celsius ou farenheit (C ou F): c\n",
            "Digite a temperatura, em Cº: 999\n",
            "999.00ºC é igual a 1830.20Fº\n",
            "212.00ºF é igual a 100.00Cº\n"
          ],
          "name": "stdout"
        }
      ]
    },
    {
      "cell_type": "code",
      "metadata": {
        "id": "cuUKqorVQjm7",
        "outputId": "a1c0f0f8-d064-4a3a-ac7a-a25602077a8e",
        "colab": {
          "base_uri": "https://localhost:8080/"
        }
      },
      "source": [
        "def conversor_temperatura(tipo, temperatura):\n",
        "  if tipo == 'c':\n",
        "    celsius = temperatura\n",
        "    farenheit = (9 * celsius / 5) + 32\n",
        "\n",
        "    return farenheit\n",
        "  elif tipo == 'f':\n",
        "    farenheit = temperatura\n",
        "    celsius = 5 * (farenheit - 32) / 9\n",
        "\n",
        "    return celsius\n",
        "\n",
        "\n",
        "def main():\n",
        "  tipo_temperatura = input('Deseja converter celsius ou farenheit (C ou F): ').strip().lower()\n",
        "\n",
        "  if tipo_temperatura != 'c' and tipo_temperatura != 'f':\n",
        "    print('Tipo não suportado.')\n",
        "    main()\n",
        "  else:\n",
        "    temperatura = float(input(f'Digite a temperatura, em {tipo_temperatura.upper()}º: '))\n",
        "    temperatura_convertida = conversor_temperatura(tipo_temperatura, temperatura)\n",
        "\n",
        "    tipo_conversao = 'f' if tipo_temperatura == 'c' else 'c'\n",
        "\n",
        "    print(f'{temperatura:.2f}º{tipo_temperatura.upper()} é igual a {temperatura_convertida:.2f}{tipo_conversao.upper()}º')\n",
        "\n",
        "\n",
        "main()"
      ],
      "execution_count": 19,
      "outputs": [
        {
          "output_type": "stream",
          "text": [
            "Deseja converter celsius ou farenheit (C ou F): c\n",
            "Digite a temperatura, em Cº: 100\n",
            "100.00ºC é igual a 212.00Fº\n"
          ],
          "name": "stdout"
        }
      ]
    },
    {
      "cell_type": "code",
      "metadata": {
        "id": "ZUBoL6reR7HJ",
        "outputId": "4a914e5a-b748-462b-b377-de4164fc2316",
        "colab": {
          "base_uri": "https://localhost:8080/"
        }
      },
      "source": [
        "# Operador ternário no Python\n",
        "\n",
        "idade = 15\n",
        "\n",
        "maior_idade = idade >= 18\n",
        "\n",
        "documento = 'cnh' if maior_idade else 'rg'\n",
        "print(documento)"
      ],
      "execution_count": 12,
      "outputs": [
        {
          "output_type": "stream",
          "text": [
            "rg\n"
          ],
          "name": "stdout"
        }
      ]
    },
    {
      "cell_type": "code",
      "metadata": {
        "id": "zOWXMFphUJi8",
        "outputId": "b1a17e0e-82ff-44e4-b2cb-d7eecf8b4920",
        "colab": {
          "base_uri": "https://localhost:8080/"
        }
      },
      "source": [
        "# Criar uma nova lista\n",
        "lista = [10, 30, 5, 4, 9, 12]\n",
        "\n",
        "# Exibir a lista\n",
        "print('lista:', lista, type(lista))\n",
        "\n",
        "# Acessar um elemento de uma lista\n",
        "# Lista na esquerda e [] com o índice na direita\n",
        "print('lista[0]:', lista[0], type(lista[0]))\n",
        "\n",
        "# Se declarar apenas o colchete com o número, criamos uma\n",
        "# lista nova\n",
        "print('[0]:', [0], type([0]))\n",
        "\n",
        "# Criar uma lista com mais elementos\n",
        "print('[0, 5, 6]:', [0, 5, 6], type([0, 5, 6]))\n",
        "\n",
        "# Criando variável com item da lista\n",
        "primeiro_elemento = lista[0]\n",
        "print('primeiro_elemento:', primeiro_elemento)\n",
        "\n"
      ],
      "execution_count": 31,
      "outputs": [
        {
          "output_type": "stream",
          "text": [
            "lista: ([10, 30, 5, 4, 9, 12], <class 'list'>)\n",
            "lista[0]: 10 <class 'int'>\n",
            "[0]: [0] <class 'list'>\n",
            "[0, 5, 6]: [0, 5, 6] <class 'list'>\n",
            "primeiro_elemento: 10\n"
          ],
          "name": "stdout"
        }
      ]
    },
    {
      "cell_type": "code",
      "metadata": {
        "id": "SYzIkL4LVxOI",
        "outputId": "0cfe7704-cd75-4d34-c56d-6b12c9f7f3fd",
        "colab": {
          "base_uri": "https://localhost:8080/"
        }
      },
      "source": [
        "# Pegando o último elemento\n",
        "\n",
        "lista = [10, 30, 5, 4, 9, 12]\n",
        "quantidade_elementos = len(lista)\n",
        "ultimo_indice = quantidade_elementos - 1\n",
        "ultimo_elemento = lista[ultimo_indice]\n",
        "\n",
        "ultimo_elemento"
      ],
      "execution_count": 39,
      "outputs": [
        {
          "output_type": "stream",
          "text": [
            "6 5\n"
          ],
          "name": "stdout"
        },
        {
          "output_type": "execute_result",
          "data": {
            "text/plain": [
              "12"
            ]
          },
          "metadata": {
            "tags": []
          },
          "execution_count": 39
        }
      ]
    },
    {
      "cell_type": "code",
      "metadata": {
        "id": "BYEIrqebWj6f",
        "outputId": "ec92d711-338b-4ecf-f2e7-ca2884e7ef97",
        "colab": {
          "base_uri": "https://localhost:8080/"
        }
      },
      "source": [
        "# Pegando o último elemento\n",
        "\n",
        "lista = [10, 30, 5, 4, 9, 12, 300]\n",
        "print(lista[len(lista) - 1])\n",
        "\n",
        "print(lista[-1])"
      ],
      "execution_count": 46,
      "outputs": [
        {
          "output_type": "stream",
          "text": [
            "300\n",
            "300\n",
            "10\n"
          ],
          "name": "stdout"
        }
      ]
    },
    {
      "cell_type": "code",
      "metadata": {
        "id": "o35jNKZNXHFz",
        "outputId": "5e72b8b2-bc99-4c3b-c2b8-894e5b4574b3",
        "colab": {
          "base_uri": "https://localhost:8080/"
        }
      },
      "source": [
        "# Acessar intervalos da lista\n",
        "\n",
        "lista = [10, 30, 5, 4, 9, 12, 300]\n",
        "\n",
        "# Começa no índice 0 e vai até o índice 2\n",
        "print(lista[0:2])\n",
        "\n",
        "# Comparando com horário do relógio:\n",
        "# O curso do Ocean é das 13 às 16h\n",
        "# das 13 às 16\n",
        "# 13:16\n",
        "# No python, o segundo número não é incluído\n",
        "# Portanto, se a aula vai das 13h às 16h,\n",
        "# a declaração seria 13:17, pois ele para antes do 17h\n",
        "\n",
        "# Vai do segundo até o terceiro\n",
        "print(lista[1:3])\n",
        "#         0, 1,  2, 3, 4,  5,   6 \n",
        "lista = [10, 30, 5, 7, 9, 12, 300] # Total 7 elementos\n",
        "# Vai do quinto até o sétimo\n",
        "print(lista[7 - 3:7])\n",
        "\n",
        "#         0, 1,  2, 3, 4,  5,   6,  7,  8\n",
        "lista = [10, 30, 5, 7] # Total 9 elementos\n",
        "# Quero pegar sempre os três últimos\n",
        "print(lista[len(lista) - 3:len(lista)])\n",
        "\n",
        "#         0, 1,  2, 3, 4,  5,   6,  7,  8\n",
        "lista = [10, 30, 5, 7] # Total 9 elementos\n",
        "# Quero pegar sempre os três últimos\n",
        "print(lista[-3:])"
      ],
      "execution_count": 68,
      "outputs": [
        {
          "output_type": "stream",
          "text": [
            "[10, 30]\n",
            "[30, 5]\n",
            "[9, 12, 300]\n",
            "[30, 5, 7]\n",
            "[30, 5, 7]\n"
          ],
          "name": "stdout"
        }
      ]
    },
    {
      "cell_type": "code",
      "metadata": {
        "id": "YyNny4bFZ7oZ",
        "outputId": "7e876ea5-7998-48e3-c44c-1a46c7a40554",
        "colab": {
          "base_uri": "https://localhost:8080/"
        }
      },
      "source": [
        "# Uma string nada mais é que uma cadeia de caracteres\n",
        "# Ou seja, pode ser considerada com uma lista de caracteres\n",
        "\n",
        "nome = \"Paulo Salvatore\"\n",
        "\n",
        "primeira_letra = nome[0]\n",
        "\n",
        "print(primeira_letra)\n",
        "\n",
        "ultima_letra = nome[-1]\n",
        "\n",
        "print(ultima_letra)\n",
        "\n",
        "primeiro_nome = nome[0:5]\n",
        "print(primeiro_nome)"
      ],
      "execution_count": 74,
      "outputs": [
        {
          "output_type": "stream",
          "text": [
            "P\n",
            "e\n",
            "Paulo\n"
          ],
          "name": "stdout"
        }
      ]
    },
    {
      "cell_type": "markdown",
      "metadata": {
        "id": "o4sJ95BQalas"
      },
      "source": [
        "# Exercício 1\n",
        "\n",
        "- Considere a string: `animais = \"catdogfrog\"`\n",
        "- Declare a variável `cat` com os três primeiros itens da `string`.\n",
        "- Declare a variável `dog` a partir do 4º caractére até o 6º.\n",
        "- Declare a variável `frog` a partir do 7º caractére até o final.\n",
        "- Exiba o conteúdo das variáveis no console.\n"
      ]
    },
    {
      "cell_type": "code",
      "metadata": {
        "id": "dUoCziHCa7vn",
        "outputId": "c5fefad2-683e-4170-a829-ed7e4e65cc27",
        "colab": {
          "base_uri": "https://localhost:8080/"
        }
      },
      "source": [
        "animais = 'catdogfrog'\n",
        "\n",
        "cat = animais[:3]\n",
        "dog = animais[3:6]\n",
        "frog = animais[-4:]\n",
        "\n",
        "print(cat, dog, frog)"
      ],
      "execution_count": 76,
      "outputs": [
        {
          "output_type": "stream",
          "text": [
            "cat dog frog\n"
          ],
          "name": "stdout"
        }
      ]
    },
    {
      "cell_type": "code",
      "metadata": {
        "id": "DuP9jJinbz4-",
        "outputId": "66dee181-748d-4ebd-d2da-014c9beef5d6",
        "colab": {
          "base_uri": "https://localhost:8080/"
        }
      },
      "source": [
        "# Declaro a lista\n",
        "animais = ['morcego', 'papagaio', 'leão']\n",
        "print(animais)\n",
        "\n",
        "# Adiciono um elemento no final\n",
        "animais.append('girafa')\n",
        "print(animais)\n",
        "\n",
        "# Substituo o primeiro elemento (ou qualquer um, acessando pelo índice)\n",
        "animais[0] = 'cachorro'\n",
        "print(animais)\n",
        "\n",
        "# Inserindo um elemento em algum índice específico (sem substituir)\n",
        "animais.insert(1, 'gato')\n",
        "print(animais)\n",
        "\n",
        "# Onde está a girafa?\n",
        "# Obtendo o índice de um elemento pelo valor dele\n",
        "indice_girafa = animais.index('girafa')\n",
        "print(\"O elemento 'girafa' está no índice\", indice_girafa)\n",
        "\n",
        "# Como eu removo um elemento pelo valor?\n",
        "animais.remove('leão')\n",
        "print(animais)\n",
        "\n",
        "# Como eu removo um elemento pelo índice?\n",
        "del animais[1]\n",
        "print(animais)\n",
        "\n",
        "# Como eu removo o último elemento da lista?\n",
        "animais.pop()\n",
        "print(animais)\n",
        "\n",
        "# Também posso passar um índice para que pop remova-o da lista\n",
        "animais.pop(0)\n",
        "print(animais)\n",
        "\n",
        "# Quantidade de itens na lista\n",
        "quantidade_elementos = len(animais)\n",
        "print(\"A lista possui\", quantidade_elementos, \"elemento(s)\")\n",
        "\n",
        "# Qual a diferença entre o pop e o del?\n",
        "# O pop retorna o valor que foi removido\n",
        "# O del apenas remove, sem retornar esse valor"
      ],
      "execution_count": 96,
      "outputs": [
        {
          "output_type": "stream",
          "text": [
            "['morcego', 'papagaio', 'leão']\n",
            "['morcego', 'papagaio', 'leão', 'girafa']\n",
            "['cachorro', 'papagaio', 'leão', 'girafa']\n",
            "['cachorro', 'gato', 'papagaio', 'leão', 'girafa']\n",
            "O elemento 'girafa' está no índice 4\n",
            "['cachorro', 'gato', 'papagaio', 'girafa']\n",
            "['cachorro', 'papagaio', 'girafa']\n",
            "['cachorro', 'papagaio']\n",
            "['papagaio']\n",
            "A lista possui 1 elemento(s)\n"
          ],
          "name": "stdout"
        }
      ]
    },
    {
      "cell_type": "code",
      "metadata": {
        "id": "99qTAO_9dPDv",
        "outputId": "b039d52b-de28-447d-8c33-c490973c2cfd",
        "colab": {
          "base_uri": "https://localhost:8080/"
        }
      },
      "source": [
        "# Pop vs Del\n",
        "\n",
        "animais = ['morcego', 'papagaio', 'leão']\n",
        "print(animais)\n",
        "\n",
        "indice = 1\n",
        "\n",
        "# Quero obter o 'papagaio', mas automaticamente já removê-lo da lista, posso usar o pop\n",
        "\n",
        "animal = animais.pop(indice)\n",
        "\n",
        "print(animal)\n",
        "print(animais)"
      ],
      "execution_count": 89,
      "outputs": [
        {
          "output_type": "stream",
          "text": [
            "['morcego', 'papagaio', 'leão']\n",
            "papagaio\n",
            "['morcego', 'leão']\n"
          ],
          "name": "stdout"
        }
      ]
    },
    {
      "cell_type": "code",
      "metadata": {
        "id": "OYE1cnRSeGQ0",
        "outputId": "d8acefc9-fdfe-46d7-c724-005f8447b894",
        "colab": {
          "base_uri": "https://localhost:8080/"
        }
      },
      "source": [
        "# Como seria o mesmo código anterior usando o del?\n",
        "\n",
        "# Pop vs Del\n",
        "\n",
        "animais = ['morcego', 'papagaio', 'leão']\n",
        "print(animais)\n",
        "\n",
        "indice = 1\n",
        "\n",
        "# Quero obter o 'papagaio', mas automaticamente já removê-lo da lista, posso usar o pop\n",
        "\n",
        "animal = animais[indice]\n",
        "del animais[indice]\n",
        "\n",
        "print(animal)\n",
        "print(animais)"
      ],
      "execution_count": 91,
      "outputs": [
        {
          "output_type": "stream",
          "text": [
            "['morcego', 'papagaio', 'leão']\n",
            "papagaio\n",
            "['morcego', 'leão']\n"
          ],
          "name": "stdout"
        }
      ]
    },
    {
      "cell_type": "code",
      "metadata": {
        "id": "EzdTWidydtId",
        "outputId": "612544be-f73b-4bcf-a81a-2a646a3a0f00",
        "colab": {
          "base_uri": "https://localhost:8080/"
        }
      },
      "source": [
        "# Criando listas com várias posições\n",
        "\n",
        "lista = [0] * 5\n",
        "print(lista)"
      ],
      "execution_count": 90,
      "outputs": [
        {
          "output_type": "stream",
          "text": [
            "[0, 0, 0, 0, 0]\n"
          ],
          "name": "stdout"
        }
      ]
    },
    {
      "cell_type": "code",
      "metadata": {
        "id": "K-TZ7dQkeeq6"
      },
      "source": [
        ""
      ],
      "execution_count": null,
      "outputs": []
    }
  ]
}
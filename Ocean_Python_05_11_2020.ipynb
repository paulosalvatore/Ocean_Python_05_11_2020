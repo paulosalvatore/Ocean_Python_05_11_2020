{
  "nbformat": 4,
  "nbformat_minor": 0,
  "metadata": {
    "colab": {
      "name": "Ocean_Python_05_11_2020.ipynb",
      "provenance": [],
      "collapsed_sections": [],
      "authorship_tag": "ABX9TyMqXsosvUcIxAJrDHLg2Cj2",
      "include_colab_link": true
    },
    "kernelspec": {
      "name": "python3",
      "display_name": "Python 3"
    }
  },
  "cells": [
    {
      "cell_type": "markdown",
      "metadata": {
        "id": "view-in-github",
        "colab_type": "text"
      },
      "source": [
        "<a href=\"https://colab.research.google.com/github/paulosalvatore/Ocean_Python_05_11_2020/blob/main/Ocean_Python_05_11_2020.ipynb\" target=\"_parent\"><img src=\"https://colab.research.google.com/assets/colab-badge.svg\" alt=\"Open In Colab\"/></a>"
      ]
    },
    {
      "cell_type": "code",
      "metadata": {
        "id": "LU-1kJjJKt6S",
        "outputId": "d2009c31-3d15-4e76-e3f5-127f95a87e55",
        "colab": {
          "base_uri": "https://localhost:8080/"
        }
      },
      "source": [
        "def conversor_temperatura(tipo, temperatura):\n",
        "  if tipo == 'c':\n",
        "    celsius = temperatura\n",
        "    farenheit = (9 * celsius / 5) + 32\n",
        "    print(f'{celsius:.2f}ºC é igual a {farenheit:.2f}Fº')\n",
        "  elif tipo == 'f':\n",
        "    farenheit = temperatura\n",
        "    celsius = 5 * (farenheit - 32) / 9\n",
        "    print(f'{farenheit:.2f}ºF é igual a {celsius:.2f}Cº')\n",
        "\n",
        "\n",
        "tipo_temperatura = input('celsius ou farenheit (C ou F): ').strip().lower()\n",
        "temperatura = float(input(f'Digite a temperatura, em {tipo_temperatura.upper()}º: '))\n",
        "conversor_temperatura(tipo_temperatura, temperatura)\n",
        "\n",
        "conversor_temperatura('f', 212)"
      ],
      "execution_count": 2,
      "outputs": [
        {
          "output_type": "stream",
          "text": [
            "celsius ou farenheit (C ou F): c\n",
            "Digite a temperatura, em Cº: 999\n",
            "999.00ºC é igual a 1830.20Fº\n",
            "212.00ºF é igual a 100.00Cº\n"
          ],
          "name": "stdout"
        }
      ]
    },
    {
      "cell_type": "code",
      "metadata": {
        "id": "cuUKqorVQjm7",
        "outputId": "a1c0f0f8-d064-4a3a-ac7a-a25602077a8e",
        "colab": {
          "base_uri": "https://localhost:8080/"
        }
      },
      "source": [
        "def conversor_temperatura(tipo, temperatura):\n",
        "  if tipo == 'c':\n",
        "    celsius = temperatura\n",
        "    farenheit = (9 * celsius / 5) + 32\n",
        "\n",
        "    return farenheit\n",
        "  elif tipo == 'f':\n",
        "    farenheit = temperatura\n",
        "    celsius = 5 * (farenheit - 32) / 9\n",
        "\n",
        "    return celsius\n",
        "\n",
        "\n",
        "def main():\n",
        "  tipo_temperatura = input('Deseja converter celsius ou farenheit (C ou F): ').strip().lower()\n",
        "\n",
        "  if tipo_temperatura != 'c' and tipo_temperatura != 'f':\n",
        "    print('Tipo não suportado.')\n",
        "    main()\n",
        "  else:\n",
        "    temperatura = float(input(f'Digite a temperatura, em {tipo_temperatura.upper()}º: '))\n",
        "    temperatura_convertida = conversor_temperatura(tipo_temperatura, temperatura)\n",
        "\n",
        "    tipo_conversao = 'f' if tipo_temperatura == 'c' else 'c'\n",
        "\n",
        "    print(f'{temperatura:.2f}º{tipo_temperatura.upper()} é igual a {temperatura_convertida:.2f}{tipo_conversao.upper()}º')\n",
        "\n",
        "\n",
        "main()"
      ],
      "execution_count": 19,
      "outputs": [
        {
          "output_type": "stream",
          "text": [
            "Deseja converter celsius ou farenheit (C ou F): c\n",
            "Digite a temperatura, em Cº: 100\n",
            "100.00ºC é igual a 212.00Fº\n"
          ],
          "name": "stdout"
        }
      ]
    },
    {
      "cell_type": "code",
      "metadata": {
        "id": "ZUBoL6reR7HJ",
        "outputId": "4a914e5a-b748-462b-b377-de4164fc2316",
        "colab": {
          "base_uri": "https://localhost:8080/"
        }
      },
      "source": [
        "# Operador ternário no Python\n",
        "\n",
        "idade = 15\n",
        "\n",
        "maior_idade = idade >= 18\n",
        "\n",
        "documento = 'cnh' if maior_idade else 'rg'\n",
        "print(documento)"
      ],
      "execution_count": 12,
      "outputs": [
        {
          "output_type": "stream",
          "text": [
            "rg\n"
          ],
          "name": "stdout"
        }
      ]
    },
    {
      "cell_type": "code",
      "metadata": {
        "id": "zOWXMFphUJi8",
        "outputId": "b1a17e0e-82ff-44e4-b2cb-d7eecf8b4920",
        "colab": {
          "base_uri": "https://localhost:8080/"
        }
      },
      "source": [
        "# Criar uma nova lista\n",
        "lista = [10, 30, 5, 4, 9, 12]\n",
        "\n",
        "# Exibir a lista\n",
        "print('lista:', lista, type(lista))\n",
        "\n",
        "# Acessar um elemento de uma lista\n",
        "# Lista na esquerda e [] com o índice na direita\n",
        "print('lista[0]:', lista[0], type(lista[0]))\n",
        "\n",
        "# Se declarar apenas o colchete com o número, criamos uma\n",
        "# lista nova\n",
        "print('[0]:', [0], type([0]))\n",
        "\n",
        "# Criar uma lista com mais elementos\n",
        "print('[0, 5, 6]:', [0, 5, 6], type([0, 5, 6]))\n",
        "\n",
        "# Criando variável com item da lista\n",
        "primeiro_elemento = lista[0]\n",
        "print('primeiro_elemento:', primeiro_elemento)\n",
        "\n"
      ],
      "execution_count": 31,
      "outputs": [
        {
          "output_type": "stream",
          "text": [
            "lista: ([10, 30, 5, 4, 9, 12], <class 'list'>)\n",
            "lista[0]: 10 <class 'int'>\n",
            "[0]: [0] <class 'list'>\n",
            "[0, 5, 6]: [0, 5, 6] <class 'list'>\n",
            "primeiro_elemento: 10\n"
          ],
          "name": "stdout"
        }
      ]
    },
    {
      "cell_type": "code",
      "metadata": {
        "id": "SYzIkL4LVxOI",
        "outputId": "0cfe7704-cd75-4d34-c56d-6b12c9f7f3fd",
        "colab": {
          "base_uri": "https://localhost:8080/"
        }
      },
      "source": [
        "# Pegando o último elemento\n",
        "\n",
        "lista = [10, 30, 5, 4, 9, 12]\n",
        "quantidade_elementos = len(lista)\n",
        "ultimo_indice = quantidade_elementos - 1\n",
        "ultimo_elemento = lista[ultimo_indice]\n",
        "\n",
        "ultimo_elemento"
      ],
      "execution_count": 39,
      "outputs": [
        {
          "output_type": "stream",
          "text": [
            "6 5\n"
          ],
          "name": "stdout"
        },
        {
          "output_type": "execute_result",
          "data": {
            "text/plain": [
              "12"
            ]
          },
          "metadata": {
            "tags": []
          },
          "execution_count": 39
        }
      ]
    },
    {
      "cell_type": "code",
      "metadata": {
        "id": "BYEIrqebWj6f",
        "outputId": "ec92d711-338b-4ecf-f2e7-ca2884e7ef97",
        "colab": {
          "base_uri": "https://localhost:8080/"
        }
      },
      "source": [
        "# Pegando o último elemento\n",
        "\n",
        "lista = [10, 30, 5, 4, 9, 12, 300]\n",
        "print(lista[len(lista) - 1])\n",
        "\n",
        "print(lista[-1])"
      ],
      "execution_count": 46,
      "outputs": [
        {
          "output_type": "stream",
          "text": [
            "300\n",
            "300\n",
            "10\n"
          ],
          "name": "stdout"
        }
      ]
    },
    {
      "cell_type": "code",
      "metadata": {
        "id": "o35jNKZNXHFz",
        "outputId": "5e72b8b2-bc99-4c3b-c2b8-894e5b4574b3",
        "colab": {
          "base_uri": "https://localhost:8080/"
        }
      },
      "source": [
        "# Acessar intervalos da lista\n",
        "\n",
        "lista = [10, 30, 5, 4, 9, 12, 300]\n",
        "\n",
        "# Começa no índice 0 e vai até o índice 2\n",
        "print(lista[0:2])\n",
        "\n",
        "# Comparando com horário do relógio:\n",
        "# O curso do Ocean é das 13 às 16h\n",
        "# das 13 às 16\n",
        "# 13:16\n",
        "# No python, o segundo número não é incluído\n",
        "# Portanto, se a aula vai das 13h às 16h,\n",
        "# a declaração seria 13:17, pois ele para antes do 17h\n",
        "\n",
        "# Vai do segundo até o terceiro\n",
        "print(lista[1:3])\n",
        "#         0, 1,  2, 3, 4,  5,   6 \n",
        "lista = [10, 30, 5, 7, 9, 12, 300] # Total 7 elementos\n",
        "# Vai do quinto até o sétimo\n",
        "print(lista[7 - 3:7])\n",
        "\n",
        "#         0, 1,  2, 3, 4,  5,   6,  7,  8\n",
        "lista = [10, 30, 5, 7] # Total 9 elementos\n",
        "# Quero pegar sempre os três últimos\n",
        "print(lista[len(lista) - 3:len(lista)])\n",
        "\n",
        "#         0, 1,  2, 3, 4,  5,   6,  7,  8\n",
        "lista = [10, 30, 5, 7] # Total 9 elementos\n",
        "# Quero pegar sempre os três últimos\n",
        "print(lista[-3:])"
      ],
      "execution_count": 68,
      "outputs": [
        {
          "output_type": "stream",
          "text": [
            "[10, 30]\n",
            "[30, 5]\n",
            "[9, 12, 300]\n",
            "[30, 5, 7]\n",
            "[30, 5, 7]\n"
          ],
          "name": "stdout"
        }
      ]
    },
    {
      "cell_type": "code",
      "metadata": {
        "id": "YyNny4bFZ7oZ",
        "outputId": "7e876ea5-7998-48e3-c44c-1a46c7a40554",
        "colab": {
          "base_uri": "https://localhost:8080/"
        }
      },
      "source": [
        "# Uma string nada mais é que uma cadeia de caracteres\n",
        "# Ou seja, pode ser considerada com uma lista de caracteres\n",
        "\n",
        "nome = \"Paulo Salvatore\"\n",
        "\n",
        "primeira_letra = nome[0]\n",
        "\n",
        "print(primeira_letra)\n",
        "\n",
        "ultima_letra = nome[-1]\n",
        "\n",
        "print(ultima_letra)\n",
        "\n",
        "primeiro_nome = nome[0:5]\n",
        "print(primeiro_nome)"
      ],
      "execution_count": 74,
      "outputs": [
        {
          "output_type": "stream",
          "text": [
            "P\n",
            "e\n",
            "Paulo\n"
          ],
          "name": "stdout"
        }
      ]
    },
    {
      "cell_type": "markdown",
      "metadata": {
        "id": "o4sJ95BQalas"
      },
      "source": [
        "# Exercício 1\n",
        "\n",
        "- Considere a string: `animais = \"catdogfrog\"`\n",
        "- Declare a variável `cat` com os três primeiros itens da `string`.\n",
        "- Declare a variável `dog` a partir do 4º caractére até o 6º.\n",
        "- Declare a variável `frog` a partir do 7º caractére até o final.\n",
        "- Exiba o conteúdo das variáveis no console.\n"
      ]
    },
    {
      "cell_type": "code",
      "metadata": {
        "id": "dUoCziHCa7vn",
        "outputId": "c5fefad2-683e-4170-a829-ed7e4e65cc27",
        "colab": {
          "base_uri": "https://localhost:8080/"
        }
      },
      "source": [
        "animais = 'catdogfrog'\n",
        "\n",
        "cat = animais[:3]\n",
        "dog = animais[3:6]\n",
        "frog = animais[-4:]\n",
        "\n",
        "print(cat, dog, frog)"
      ],
      "execution_count": 76,
      "outputs": [
        {
          "output_type": "stream",
          "text": [
            "cat dog frog\n"
          ],
          "name": "stdout"
        }
      ]
    },
    {
      "cell_type": "code",
      "metadata": {
        "id": "DuP9jJinbz4-",
        "outputId": "66dee181-748d-4ebd-d2da-014c9beef5d6",
        "colab": {
          "base_uri": "https://localhost:8080/"
        }
      },
      "source": [
        "# Declaro a lista\n",
        "animais = ['morcego', 'papagaio', 'leão']\n",
        "print(animais)\n",
        "\n",
        "# Adiciono um elemento no final\n",
        "animais.append('girafa')\n",
        "print(animais)\n",
        "\n",
        "# Substituo o primeiro elemento (ou qualquer um, acessando pelo índice)\n",
        "animais[0] = 'cachorro'\n",
        "print(animais)\n",
        "\n",
        "# Inserindo um elemento em algum índice específico (sem substituir)\n",
        "animais.insert(1, 'gato')\n",
        "print(animais)\n",
        "\n",
        "# Onde está a girafa?\n",
        "# Obtendo o índice de um elemento pelo valor dele\n",
        "indice_girafa = animais.index('girafa')\n",
        "print(\"O elemento 'girafa' está no índice\", indice_girafa)\n",
        "\n",
        "# Como eu removo um elemento pelo valor?\n",
        "animais.remove('leão')\n",
        "print(animais)\n",
        "\n",
        "# Como eu removo um elemento pelo índice?\n",
        "del animais[1]\n",
        "print(animais)\n",
        "\n",
        "# Como eu removo o último elemento da lista?\n",
        "animais.pop()\n",
        "print(animais)\n",
        "\n",
        "# Também posso passar um índice para que pop remova-o da lista\n",
        "animais.pop(0)\n",
        "print(animais)\n",
        "\n",
        "# Quantidade de itens na lista\n",
        "quantidade_elementos = len(animais)\n",
        "print(\"A lista possui\", quantidade_elementos, \"elemento(s)\")\n",
        "\n",
        "# Qual a diferença entre o pop e o del?\n",
        "# O pop retorna o valor que foi removido\n",
        "# O del apenas remove, sem retornar esse valor"
      ],
      "execution_count": 96,
      "outputs": [
        {
          "output_type": "stream",
          "text": [
            "['morcego', 'papagaio', 'leão']\n",
            "['morcego', 'papagaio', 'leão', 'girafa']\n",
            "['cachorro', 'papagaio', 'leão', 'girafa']\n",
            "['cachorro', 'gato', 'papagaio', 'leão', 'girafa']\n",
            "O elemento 'girafa' está no índice 4\n",
            "['cachorro', 'gato', 'papagaio', 'girafa']\n",
            "['cachorro', 'papagaio', 'girafa']\n",
            "['cachorro', 'papagaio']\n",
            "['papagaio']\n",
            "A lista possui 1 elemento(s)\n"
          ],
          "name": "stdout"
        }
      ]
    },
    {
      "cell_type": "code",
      "metadata": {
        "id": "99qTAO_9dPDv",
        "outputId": "b039d52b-de28-447d-8c33-c490973c2cfd",
        "colab": {
          "base_uri": "https://localhost:8080/"
        }
      },
      "source": [
        "# Pop vs Del\n",
        "\n",
        "animais = ['morcego', 'papagaio', 'leão']\n",
        "print(animais)\n",
        "\n",
        "indice = 1\n",
        "\n",
        "# Quero obter o 'papagaio', mas automaticamente já removê-lo da lista, posso usar o pop\n",
        "\n",
        "animal = animais.pop(indice)\n",
        "\n",
        "print(animal)\n",
        "print(animais)"
      ],
      "execution_count": 89,
      "outputs": [
        {
          "output_type": "stream",
          "text": [
            "['morcego', 'papagaio', 'leão']\n",
            "papagaio\n",
            "['morcego', 'leão']\n"
          ],
          "name": "stdout"
        }
      ]
    },
    {
      "cell_type": "code",
      "metadata": {
        "id": "OYE1cnRSeGQ0",
        "outputId": "d8acefc9-fdfe-46d7-c724-005f8447b894",
        "colab": {
          "base_uri": "https://localhost:8080/"
        }
      },
      "source": [
        "# Como seria o mesmo código anterior usando o del?\n",
        "\n",
        "# Pop vs Del\n",
        "\n",
        "animais = ['morcego', 'papagaio', 'leão']\n",
        "print(animais)\n",
        "\n",
        "indice = 1\n",
        "\n",
        "# Quero obter o 'papagaio', mas automaticamente já removê-lo da lista, posso usar o pop\n",
        "\n",
        "animal = animais[indice]\n",
        "del animais[indice]\n",
        "\n",
        "print(animal)\n",
        "print(animais)"
      ],
      "execution_count": 91,
      "outputs": [
        {
          "output_type": "stream",
          "text": [
            "['morcego', 'papagaio', 'leão']\n",
            "papagaio\n",
            "['morcego', 'leão']\n"
          ],
          "name": "stdout"
        }
      ]
    },
    {
      "cell_type": "code",
      "metadata": {
        "id": "EzdTWidydtId",
        "outputId": "612544be-f73b-4bcf-a81a-2a646a3a0f00",
        "colab": {
          "base_uri": "https://localhost:8080/"
        }
      },
      "source": [
        "# Criando listas com várias posições\n",
        "\n",
        "lista = [0] * 5\n",
        "print(lista)"
      ],
      "execution_count": 90,
      "outputs": [
        {
          "output_type": "stream",
          "text": [
            "[0, 0, 0, 0, 0]\n"
          ],
          "name": "stdout"
        }
      ]
    },
    {
      "cell_type": "code",
      "metadata": {
        "id": "K-TZ7dQkeeq6",
        "outputId": "35cfe101-23f0-434d-d58d-81e7c6e47c87",
        "colab": {
          "base_uri": "https://localhost:8080/"
        }
      },
      "source": [
        "# For: Vai varrer TODA a lista\n",
        "# Também é possível usar o for para executar um determinado número de vezes\n",
        "\n",
        "animais = ['gato', 'cachorro', 'papagaio', 'girafa', 'morcego']\n",
        "\n",
        "print(animais[0])\n",
        "print(animais[1])\n",
        "print(animais[2])\n",
        "print(animais[3])\n",
        "\n",
        "print('\\n')\n",
        "\n",
        "# Posso substituir os prints por um for, que irá rodar um print para cada animal da lista\n",
        "\n",
        "for animal in animais:\n",
        "  # Em cada execução, teremos um valor diferente na variável animal\n",
        "  print(animal)"
      ],
      "execution_count": 103,
      "outputs": [
        {
          "output_type": "stream",
          "text": [
            "gato\n",
            "cachorro\n",
            "papagaio\n",
            "girafa\n",
            "\n",
            "\n",
            "gato\n",
            "cachorro\n",
            "papagaio\n",
            "girafa\n",
            "morcego\n"
          ],
          "name": "stdout"
        }
      ]
    },
    {
      "cell_type": "markdown",
      "metadata": {
        "id": "Qzlpr3-cjlmf"
      },
      "source": [
        "# Exercício 2\n",
        "\n",
        "- Crie uma lista que armazena diversos números e para cada número na lista, exiba o resultado da multiplicação desse número por 2.\n"
      ]
    },
    {
      "cell_type": "code",
      "metadata": {
        "id": "yVpFiSqUjph-",
        "outputId": "4e2c761f-538b-4a55-96cd-1df7a86bc849",
        "colab": {
          "base_uri": "https://localhost:8080/"
        }
      },
      "source": [
        "numeros = [4, 7, 9, 12]\n",
        "\n",
        "for numero in numeros:\n",
        "  print(numero * 2)"
      ],
      "execution_count": 104,
      "outputs": [
        {
          "output_type": "stream",
          "text": [
            "8\n",
            "14\n",
            "18\n",
            "24\n"
          ],
          "name": "stdout"
        }
      ]
    },
    {
      "cell_type": "markdown",
      "metadata": {
        "id": "AbcYpz10k48i"
      },
      "source": [
        "# Exercício 3\n",
        "\n",
        "- Nesse `for` que acabaram de criar, exiba apenas os números em que o resultado da multiplicação por 2, está entre 5 e 10"
      ]
    },
    {
      "cell_type": "code",
      "metadata": {
        "id": "HMcubyNpk__3",
        "outputId": "a186945f-6d52-4a1d-cfc4-938945986451",
        "colab": {
          "base_uri": "https://localhost:8080/"
        }
      },
      "source": [
        "numeros = [3, 3.5, 7, 9, 12, 1, 3.2, 4.5]\n",
        "\n",
        "for numero in numeros:\n",
        "  multiplicacao = numero * 2\n",
        "  \n",
        "  if multiplicacao >= 5 and multiplicacao <= 10:\n",
        "    print(f'{numero:.1f} * 2 = {multiplicacao:.1f}')"
      ],
      "execution_count": 115,
      "outputs": [
        {
          "output_type": "stream",
          "text": [
            "3.0 * 2 = 6.0\n",
            "3.5 * 2 = 7.0\n",
            "3.2 * 2 = 6.4\n",
            "4.5 * 2 = 9.0\n"
          ],
          "name": "stdout"
        }
      ]
    },
    {
      "cell_type": "code",
      "metadata": {
        "id": "7b4Au-uqnLr8",
        "outputId": "5b69867a-9b8b-4652-b571-8ec81388da59",
        "colab": {
          "base_uri": "https://localhost:8080/"
        }
      },
      "source": [
        "# Para fazer um for que rode um determinado número de vezes, sem necessariamente varrer uma lista\n",
        "# utilizamos o range\n",
        "\n",
        "# range(3) -> [0, 1, 2]\n",
        "# range(5) -> [0, 1, 2, 3, 4]\n",
        "\n",
        "# Range é um tipo de variável customizado, mas que também pode ser \"varrido\" pelo for\n",
        "# A melhor palavra para substituir esse \"varrendo\" o for, é o \"iterable\" ou simplesmente \"iterável\"\n",
        "# Quando eu falo que uma informação é \"interável\", significa que eu posso percorrer por todos os elementos\n",
        "# dessa informação, utilizando técnicas como \"for\", acesso via índice, etc\n",
        "\n",
        "print(range(5), type(range(5)))\n",
        "\n",
        "# Eu também posso converter o range(5) para uma lista\n",
        "\n",
        "lista_numeros = list(range(5))\n",
        "print(lista_numeros, type(lista_numeros))\n",
        "\n",
        "for indice in range(5):\n",
        "  print(indice)"
      ],
      "execution_count": 119,
      "outputs": [
        {
          "output_type": "stream",
          "text": [
            "range(0, 5) <class 'range'>\n",
            "[0, 1, 2, 3, 4] <class 'list'>\n",
            "0\n",
            "1\n",
            "2\n",
            "3\n",
            "4\n"
          ],
          "name": "stdout"
        }
      ]
    },
    {
      "cell_type": "code",
      "metadata": {
        "id": "B2TWGtKymqHz",
        "outputId": "243186be-a52f-4304-dc12-318570952c8b",
        "colab": {
          "base_uri": "https://localhost:8080/"
        }
      },
      "source": [
        "# Pedir para o usuário construir uma lista de números\n",
        "\n",
        "quantidade_elementos = int(input('Digite a quantidade de elementos desejada: '))\n",
        "\n",
        "numeros = []\n",
        "\n",
        "for indice in range(quantidade_elementos):\n",
        "  numero_digitado = int(input(\"Digite um número: \"))\n",
        "  numeros.append(numero_digitado)\n",
        "\n",
        "print('A minha lista de números ficou:', numeros)"
      ],
      "execution_count": 121,
      "outputs": [
        {
          "output_type": "stream",
          "text": [
            "Digite a quantidade de elementos desejada: 3\n",
            "Digite um número: 44\n",
            "Digite um número: 12\n",
            "Digite um número: 74\n",
            "A minha lista de números ficou: [44, 12, 74]\n"
          ],
          "name": "stdout"
        }
      ]
    },
    {
      "cell_type": "code",
      "metadata": {
        "id": "vsI8IykdoQnc",
        "outputId": "f7a9eb5b-68ad-4655-8a18-d0acfc38415a",
        "colab": {
          "base_uri": "https://localhost:8080/"
        }
      },
      "source": [
        "tupla = (5, 4, 9)\n",
        "\n",
        "print(tupla, type(tupla))\n",
        "\n",
        "# Tupla vs Lista\n",
        "\n",
        "lista = [5, 4, 9]\n",
        "lista[0] = 99\n",
        "print(lista)\n",
        "print(lista[0])\n",
        "\n",
        "# Na tupla, não podemos mudar os valores dela\n",
        "tupla = (5, 4, 9)\n",
        "print(tupla)\n",
        "print(tupla[0])"
      ],
      "execution_count": 134,
      "outputs": [
        {
          "output_type": "stream",
          "text": [
            "(5, 4, 9) <class 'tuple'>\n",
            "[99, 4, 9]\n",
            "99\n",
            "(5, 4, 9)\n",
            "5\n"
          ],
          "name": "stdout"
        }
      ]
    },
    {
      "cell_type": "code",
      "metadata": {
        "id": "1LDJZCZspkm3",
        "outputId": "df02c166-f297-49f6-812a-a22bab710dbf",
        "colab": {
          "base_uri": "https://localhost:8080/"
        }
      },
      "source": [
        "# Apesar de parecer que uma tupla precisa de parênteses, na verdade ela não precisa\n",
        "\n",
        "tupla = 4, 9, 2, 3\n",
        "print(tupla, type(tupla))\n",
        "\n",
        "tupla_um_elemento = 5,\n",
        "print(tupla_um_elemento, type(tupla_um_elemento))\n",
        "\n",
        "# Só necessário colocar os parênteses quando estou criando uma tupla dentro de uma chamada de função\n",
        "\n",
        "# Por exemplo: exibir_numeros((5, 3)) -> Nesse caso, (5, 3) é uma tupla. Se eu passar sem os parênteses, o python\n",
        "# entenderá que 5 e 3 são argumentos da função\n",
        "\n",
        "def teste1(numeros):\n",
        "  print(numeros, numeros[0])\n",
        "\n",
        "teste1((5, 2))\n",
        "\n",
        "def teste2(numero1, numero2):\n",
        "  print(numero1, numero2)\n",
        "\n",
        "teste2(5, 2)"
      ],
      "execution_count": 138,
      "outputs": [
        {
          "output_type": "stream",
          "text": [
            "(4, 9, 2, 3) <class 'tuple'>\n",
            "(5,) <class 'tuple'>\n",
            "(5, 2) 5\n",
            "5 2\n"
          ],
          "name": "stdout"
        }
      ]
    },
    {
      "cell_type": "code",
      "metadata": {
        "id": "BzmYv3CkqBuC",
        "outputId": "3c96bac3-715e-46bf-9414-96d5cb48b5e5",
        "colab": {
          "base_uri": "https://localhost:8080/"
        }
      },
      "source": [
        "# Quero manipular a tupla, como faço? Simples, converte pra lista e trabalha normalmente\n",
        "\n",
        "tupla = 5, 9, 1, 3\n",
        "\n",
        "print(tupla, type(tupla))\n",
        "\n",
        "lista_convertida = list(tupla)\n",
        "print(lista_convertida, type(lista_convertida))\n",
        "lista_convertida.append(5)\n",
        "print(lista_convertida, type(lista_convertida))"
      ],
      "execution_count": 140,
      "outputs": [
        {
          "output_type": "stream",
          "text": [
            "(5, 9, 1, 3) <class 'tuple'>\n",
            "[5, 9, 1, 3] <class 'list'>\n",
            "[5, 9, 1, 3, 5] <class 'list'>\n"
          ],
          "name": "stdout"
        }
      ]
    },
    {
      "cell_type": "code",
      "metadata": {
        "id": "dYXBb7LJqRzP",
        "outputId": "0c2b54cd-e05b-4f19-c490-0848b63e9a7f",
        "colab": {
          "base_uri": "https://localhost:8080/"
        }
      },
      "source": [
        "# Desconstrução de tuplas\n",
        "\n",
        "tupla_animais = 'gato', 'papagaio', 'cachorro'\n",
        "\n",
        "print(tupla_animais, type(tupla_animais))\n",
        "\n",
        "animal1, animal2, animal3 = tupla_animais\n",
        "\n",
        "print(animal1, animal2, animal3)\n",
        "\n",
        "tupla = 125.5, 'C'\n",
        "\n",
        "temperatura, tipo = tupla\n",
        "print(f'{temperatura}º{tipo}')"
      ],
      "execution_count": 143,
      "outputs": [
        {
          "output_type": "stream",
          "text": [
            "('gato', 'papagaio', 'cachorro') <class 'tuple'>\n",
            "gato papagaio cachorro\n",
            "125.5ºC\n"
          ],
          "name": "stdout"
        }
      ]
    },
    {
      "cell_type": "code",
      "metadata": {
        "id": "wqM15lR-q3Uz",
        "outputId": "96450faa-1747-40c8-b267-4cf825614a3d",
        "colab": {
          "base_uri": "https://localhost:8080/"
        }
      },
      "source": [
        "# Utilizando a desconstrução de tuplas em uma função\n",
        "\n",
        "def converter_temperatura():\n",
        "  temperatura_convertida = 50.5\n",
        "  tipo_temperatura = 'C'\n",
        "  return temperatura_convertida, tipo_temperatura\n",
        "\n",
        "temp, tipo = converter_temperatura()\n",
        "\n",
        "print(temp, tipo)"
      ],
      "execution_count": 145,
      "outputs": [
        {
          "output_type": "stream",
          "text": [
            "50.5 C\n"
          ],
          "name": "stdout"
        }
      ]
    },
    {
      "cell_type": "code",
      "metadata": {
        "id": "EIAMxr1grEUh",
        "outputId": "1a0990c3-8f16-40a8-cf5b-3d88367d1a70",
        "colab": {
          "base_uri": "https://localhost:8080/"
        }
      },
      "source": [
        "def pegar_tupla_numeros():\n",
        "  numeros = range(100)\n",
        "\n",
        "  return tuple(numeros)\n",
        "\n",
        "\n",
        "tupla_numeros = pegar_tupla_numeros()\n",
        "\n",
        "print(tupla_numeros, type(tupla_numeros))"
      ],
      "execution_count": 146,
      "outputs": [
        {
          "output_type": "stream",
          "text": [
            "(0, 1, 2, 3, 4, 5, 6, 7, 8, 9, 10, 11, 12, 13, 14, 15, 16, 17, 18, 19, 20, 21, 22, 23, 24, 25, 26, 27, 28, 29, 30, 31, 32, 33, 34, 35, 36, 37, 38, 39, 40, 41, 42, 43, 44, 45, 46, 47, 48, 49, 50, 51, 52, 53, 54, 55, 56, 57, 58, 59, 60, 61, 62, 63, 64, 65, 66, 67, 68, 69, 70, 71, 72, 73, 74, 75, 76, 77, 78, 79, 80, 81, 82, 83, 84, 85, 86, 87, 88, 89, 90, 91, 92, 93, 94, 95, 96, 97, 98, 99) <class 'tuple'>\n"
          ],
          "name": "stdout"
        }
      ]
    },
    {
      "cell_type": "code",
      "metadata": {
        "id": "yekV_zagrXE9"
      },
      "source": [
        "# Objeto -> Programação Orientada a Objetos\n",
        "\n",
        "# Dicionários -> São semelhantes as listas, mas eu consigo dar nomes aos índices\n",
        "# Funciona parecido com um objeto, mas é mais simples"
      ],
      "execution_count": null,
      "outputs": []
    },
    {
      "cell_type": "markdown",
      "metadata": {
        "id": "XzBshpVjsSPd"
      },
      "source": [
        "# Exercício 4\n",
        "\n",
        "- Peça para o usuário digitar 5 números\n",
        "- Adicione esses números em uma lista\n",
        "- Utilizando um `for`, exiba quais números são `pares` e quais são `ímpares`\n",
        "- Para saber se um número é par, o resto da divisão inteira desse número por `2` precisa ser igual a `0`\n",
        "- Para obter o resto da divisão inteira de um número, utilize o operador `%`. Exemplo: `5 % 2` deve ser igual a `1`, pois o resto da divisão inteira de `5` por `2` é `1`"
      ]
    },
    {
      "cell_type": "code",
      "metadata": {
        "id": "9kuesvn_suLa",
        "outputId": "ffcce5ae-1dd6-4e49-e83a-1cf7b75a2972",
        "colab": {
          "base_uri": "https://localhost:8080/"
        }
      },
      "source": [
        "for indice in range(5):\n",
        "  numero_digitado = int(input(f\"Digite o {indice + 1}º número: \"))\n",
        "\n",
        "  if numero_digitado % 2 == 0:\n",
        "    print(f\"O número {numero_digitado} é par.\")\n",
        "  else:\n",
        "    print(f\"O número {numero_digitado} é ímpar.\")"
      ],
      "execution_count": 148,
      "outputs": [
        {
          "output_type": "stream",
          "text": [
            "Digite o 1º número: 5\n",
            "O número 5 é ímpar.\n",
            "Digite o 2º número: 12\n",
            "O número 12 é par.\n",
            "Digite o 3º número: 13\n",
            "O número 13 é ímpar.\n",
            "Digite o 4º número: 19\n",
            "O número 19 é ímpar.\n",
            "Digite o 5º número: 20\n",
            "O número 20 é par.\n"
          ],
          "name": "stdout"
        }
      ]
    },
    {
      "cell_type": "code",
      "metadata": {
        "id": "V7TAHyB5v49H",
        "outputId": "23e5a269-c285-4e1c-f1b8-a2ff507b60cc",
        "colab": {
          "base_uri": "https://localhost:8080/"
        }
      },
      "source": [
        "numeros_pares = []\n",
        "numeros_impares = []\n",
        "\n",
        "for indice in range(5):\n",
        "  numero_digitado = int(input(f\"Digite o {indice + 1}º número: \"))\n",
        "\n",
        "  if numero_digitado % 2 == 0:\n",
        "    numeros_pares.append(numero_digitado)\n",
        "  else:\n",
        "    numeros_impares.append(numero_digitado)\n",
        "\n",
        "print(\"Os números digitados que são pares:\", numeros_pares)\n",
        "print(\"Os números digitados que são ímpares:\", numeros_impares)"
      ],
      "execution_count": 149,
      "outputs": [
        {
          "output_type": "stream",
          "text": [
            "Digite o 1º número: 10\n",
            "Digite o 2º número: 11\n",
            "Digite o 3º número: 4\n",
            "Digite o 4º número: 3\n",
            "Digite o 5º número: 8\n",
            "Os números digitados que são pares: [10, 4, 8]\n",
            "Os números digitados que são ímpares: [11, 3]\n"
          ],
          "name": "stdout"
        }
      ]
    },
    {
      "cell_type": "code",
      "metadata": {
        "id": "Uu4g4py0wi_7",
        "outputId": "0b22d38b-11ec-43d7-873a-5d20f2017829",
        "colab": {
          "base_uri": "https://localhost:8080/"
        }
      },
      "source": [
        "# Dicionários são semelhantes às listas, porém, podemos dar nomes aos índices\n",
        "\n",
        "dicionario = {\n",
        "    'nome_indice': 'valor'\n",
        "}\n",
        "print(dicionario)\n",
        "\n",
        "item = dicionario['nome_indice']\n",
        "print(item)"
      ],
      "execution_count": 150,
      "outputs": [
        {
          "output_type": "stream",
          "text": [
            "{'nome_indice': 'valor'}\n",
            "valor\n"
          ],
          "name": "stdout"
        }
      ]
    },
    {
      "cell_type": "code",
      "metadata": {
        "id": "Q9B0ZeRYw2rD",
        "outputId": "9cd8dc2c-f6c1-4a8f-ad5e-08789389eac6",
        "colab": {
          "base_uri": "https://localhost:8080/"
        }
      },
      "source": [
        "paulo = {\n",
        "    'nome': 'Paulo',\n",
        "    'sobrenome': 'Salvatore',\n",
        "    'idade': 26,\n",
        "    'altura': 1.65\n",
        "}\n",
        "\n",
        "giovanna = {\n",
        "    'nome': 'Giovanna',\n",
        "    'sobrenome': 'Souza',\n",
        "    'idade': 23,\n",
        "    'cor_cabelo': 'Loiro',\n",
        "    'altura': 1.63\n",
        "}\n",
        "\n",
        "def exibir_pessoa(pessoa):\n",
        "  print(f\"{pessoa['nome']} {pessoa['sobrenome']}\")\n",
        "  print(f\"Idade: {pessoa['idade']}\")\n",
        "\n",
        "  if 'cor_cabelo' in pessoa:\n",
        "    print(f\"Cor do Cabelo: {pessoa['cor_cabelo']}\")\n",
        "\n",
        "  if 'altura' in pessoa:\n",
        "    print(f\"Altura: {pessoa['altura']}m\")\n",
        "\n",
        "  print()\n",
        "\n",
        "\n",
        "exibir_pessoa(paulo)\n",
        "exibir_pessoa(giovanna)"
      ],
      "execution_count": 163,
      "outputs": [
        {
          "output_type": "stream",
          "text": [
            "Paulo Salvatore\n",
            "Idade: 26\n",
            "Altura: 1.65m\n",
            "\n",
            "Giovanna Souza\n",
            "Idade: 23\n",
            "Cor do Cabelo: Loiro\n",
            "Altura: 1.63m\n",
            "\n"
          ],
          "name": "stdout"
        }
      ]
    },
    {
      "cell_type": "code",
      "metadata": {
        "id": "_tYxcETpyJ3_",
        "outputId": "1f374224-637c-4703-fdc6-e68ea0c00a76",
        "colab": {
          "base_uri": "https://localhost:8080/"
        }
      },
      "source": [
        "# Bônus time\n",
        "\n",
        "pessoas = [\n",
        "  {\n",
        "    'nome': 'Paulo',\n",
        "    'sobrenome': 'Salvatore',\n",
        "    'idade': 26,\n",
        "    'altura': 1.65\n",
        "  },\n",
        "  {\n",
        "    'nome': 'Giovanna',\n",
        "    'sobrenome': 'Souza',\n",
        "    'idade': 23,\n",
        "    'cor_cabelo': 'Loiro',\n",
        "    'altura': 1.63\n",
        "  },\n",
        "  {\n",
        "    'nome': 'Luiz',\n",
        "    'sobrenome': 'Silva',\n",
        "    'idade': 28,\n",
        "    'cor_cabelo': 'Castanho',\n",
        "    'altura': 1.71\n",
        "  }\n",
        "]\n",
        "\n",
        "def exibir_pessoa(pessoa):\n",
        "  print(f\"{pessoa['nome']} {pessoa['sobrenome']}\")\n",
        "  print(f\"Idade: {pessoa['idade']}\")\n",
        "\n",
        "  if 'cor_cabelo' in pessoa:\n",
        "    print(f\"Cor do Cabelo: {pessoa['cor_cabelo']}\")\n",
        "\n",
        "  if 'altura' in pessoa:\n",
        "    print(f\"Altura: {pessoa['altura']}m\")\n",
        "\n",
        "  print()\n",
        "\n",
        "\n",
        "for pessoa in pessoas:\n",
        "  exibir_pessoa(pessoa)"
      ],
      "execution_count": 165,
      "outputs": [
        {
          "output_type": "stream",
          "text": [
            "Paulo Salvatore\n",
            "Idade: 26\n",
            "Altura: 1.65m\n",
            "\n",
            "Giovanna Souza\n",
            "Idade: 23\n",
            "Cor do Cabelo: Loiro\n",
            "Altura: 1.63m\n",
            "\n",
            "Luiz Silva\n",
            "Idade: 28\n",
            "Cor do Cabelo: Castanho\n",
            "Altura: 1.71m\n",
            "\n"
          ],
          "name": "stdout"
        }
      ]
    },
    {
      "cell_type": "code",
      "metadata": {
        "id": "6ELAS3BWygDH",
        "outputId": "ebed13d4-140d-469b-db01-c649cb898ee3",
        "colab": {
          "base_uri": "https://localhost:8080/"
        }
      },
      "source": [
        "dicionario = {\n",
        "    'chave1': 'valor1',\n",
        "    'chave2': 'valor2',\n",
        "    'chave3': 'valor3',\n",
        "    'chave4': 'valor4',\n",
        "    'chave5': 'valor5'\n",
        "}\n",
        "\n",
        "# print(dicionario)\n",
        "# print(dicionario.keys())\n",
        "\n",
        "# Outra forma de pegar chaves\n",
        "for key in dicionario.keys():\n",
        "  print(dicionario[key])\n",
        "\n",
        "# Chaves e índices numéricos\n",
        "for indice, chave in enumerate(dicionario):\n",
        "  print(chaindiceve, chave)\n",
        "\n",
        "# Apenas chaves:\n",
        "for chave in dicionario:\n",
        "  print(chave)"
      ],
      "execution_count": 172,
      "outputs": [
        {
          "output_type": "stream",
          "text": [
            "valor1\n",
            "valor2\n",
            "valor3\n",
            "valor4\n",
            "valor5\n",
            "0 chave1\n",
            "1 chave2\n",
            "2 chave3\n",
            "3 chave4\n",
            "4 chave5\n",
            "chave1\n",
            "chave2\n",
            "chave3\n",
            "chave4\n",
            "chave5\n"
          ],
          "name": "stdout"
        }
      ]
    },
    {
      "cell_type": "code",
      "metadata": {
        "id": "whON6rGXzLHf",
        "outputId": "be199af1-a87d-431d-85e6-86dd2812b5b6",
        "colab": {
          "base_uri": "https://localhost:8080/"
        }
      },
      "source": [
        "# Se quiserem estudar\n",
        "\n",
        "config = {\n",
        "    'f': {\n",
        "        'c': lambda f: 5 * (f - 32) / 9\n",
        "    },\n",
        "    'c': {\n",
        "        'f': lambda c: (9 * c / 5) + 32,\n",
        "        'k': lambda c: c + 273.15\n",
        "    }\n",
        "}\n",
        "\n",
        "\n",
        "def converter_temperatura(de, para, valor):\n",
        "  if de in config and para in config[de]:\n",
        "    return config[de][para](valor)\n",
        "  else:\n",
        "    print(\"Tipo não suportado.\")\n",
        "\n",
        "\n",
        "print(converter_temperatura('c', 'f', 100))\n",
        "print(converter_temperatura('f', 'c', 212))\n",
        "print(converter_temperatura('c', 'k', 0))"
      ],
      "execution_count": 176,
      "outputs": [
        {
          "output_type": "stream",
          "text": [
            "212.0\n",
            "100.0\n",
            "273.15\n"
          ],
          "name": "stdout"
        }
      ]
    }
  ]
}